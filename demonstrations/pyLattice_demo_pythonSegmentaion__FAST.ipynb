{
 "cells": [
  {
   "cell_type": "code",
   "execution_count": 1,
   "metadata": {},
   "outputs": [],
   "source": [
    "# by Joh Schöneberg and Cyna Shirazinejad 2019\n",
    "\n",
    "\n",
    "%matplotlib inline\n",
    "import matplotlib.pyplot as plt\n",
    "import numpy as np\n",
    "import pandas as pd\n",
    "\n",
    "\n",
    "### package for 3d visualization\n",
    "from itkwidgets import view                              \n",
    "from aicssegmentation.core.visual import seg_fluo_side_by_side,  single_fluorescent_view, segmentation_quick_view\n",
    "import skimage\n",
    "\n",
    "### local new python segmentation functions\n",
    "import os\n",
    "import sys\n",
    "pythonPackagePath = os.path.abspath('../src/')\n",
    "sys.path.append(pythonPackagePath)\n",
    "from peak_local_max_3d import peak_local_max_3d \n",
    "from gaussian_fitting import fit_multiple_gaussians\n",
    "from extract_data import extract_data_from_filename\n",
    "from gaussian_visualization import visualize_3D_gaussians\n"
   ]
  },
  {
   "cell_type": "markdown",
   "metadata": {},
   "source": [
    "# Specify Input / Output Filenames"
   ]
  },
  {
   "cell_type": "code",
   "execution_count": 2,
   "metadata": {},
   "outputs": [],
   "source": [
    "input_filename = '../test_data/cropped_488_pm50px_maxAmpl_0000.tif'\n",
    "input_filename = '/Users/johannesschoeneberg/Dropbox/pylattice_testData/uncropped/S3P5_488_150mw_560_300mw_Objdz150nm_ch1_CAM1_stack0000_560nm_0000000msec_0090116101msecAbs_000x_000y_003z_0000t_decon.tif'\n",
    "\n",
    "outputPath_tiff = (\"../test_data/output_gaussians.tiff\")\n",
    "outputPath_csv = (\"../test_data/output_gaussians.csv\")"
   ]
  },
  {
   "cell_type": "code",
   "execution_count": 3,
   "metadata": {},
   "outputs": [
    {
     "data": {
      "application/vnd.jupyter.widget-view+json": {
       "model_id": "17788eff67d94dbdae4fc56c5e348550",
       "version_major": 2,
       "version_minor": 0
      },
      "text/plain": [
       "Viewer(gradient_opacity=0.22, rendered_image=<itkImagePython.itkImageF3; proxy of <Swig Object of type 'itkIma…"
      ]
     },
     "metadata": {},
     "output_type": "display_data"
    }
   ],
   "source": [
    "image_raw = extract_data_from_filename(input_filename)\n",
    "view(single_fluorescent_view(image_raw))\n"
   ]
  },
  {
   "cell_type": "code",
   "execution_count": 5,
   "metadata": {
    "scrolled": true
   },
   "outputs": [
    {
     "name": "stdout",
     "output_type": "stream",
     "text": [
      "10%(479 of 4788)\n",
      "20%(958 of 4788)\n",
      "30%(1437 of 4788)\n",
      "40%(1916 of 4788)\n",
      "50%(2394 of 4788)\n",
      "60%(2873 of 4788)\n",
      "70%(3352 of 4788)\n",
      "80%(3831 of 4788)\n",
      "90%(4310 of 4788)\n",
      "100%(4788 of 4788)\n",
      "111.30707693099976\n"
     ]
    }
   ],
   "source": [
    "# time how fast it runs on such a frame\n",
    "import time\n",
    "start = time.time()\n",
    "\n",
    "image_raw = extract_data_from_filename(input_filename)\n",
    "\n",
    "maximas = peak_local_max_3d(image_raw,min_distance=10,threshold=10000)\n",
    "\n",
    "sigmaExpected_x__pixels = 2\n",
    "sigmaExpected_y__pixels = 2\n",
    "sigmaExpected_z__pixels = 4\n",
    "sigmas_guesses=[]\n",
    "for i in range(len(maximas)):\n",
    "    sigmas_guesses.append([sigmaExpected_z__pixels,sigmaExpected_x__pixels,sigmaExpected_y__pixels])\n",
    "    \n",
    "gaussians, gaussians_popt = fit_multiple_gaussians(image_raw,maximas,sigmas_guesses,5)\n",
    "\n",
    "end = time.time()\n",
    "print(end - start)"
   ]
  },
  {
   "cell_type": "code",
   "execution_count": null,
   "metadata": {},
   "outputs": [],
   "source": [
    "#takes ~15s\n",
    "image_gaussians = visualize_3D_gaussians(image_raw,gaussians)\n",
    "view(single_fluorescent_view(image_gaussians))"
   ]
  },
  {
   "cell_type": "code",
   "execution_count": null,
   "metadata": {},
   "outputs": [],
   "source": []
  }
 ],
 "metadata": {
  "kernelspec": {
   "display_name": "Python 3",
   "language": "python",
   "name": "python3"
  },
  "language_info": {
   "codemirror_mode": {
    "name": "ipython",
    "version": 3
   },
   "file_extension": ".py",
   "mimetype": "text/x-python",
   "name": "python",
   "nbconvert_exporter": "python",
   "pygments_lexer": "ipython3",
   "version": "3.6.7"
  }
 },
 "nbformat": 4,
 "nbformat_minor": 2
}
