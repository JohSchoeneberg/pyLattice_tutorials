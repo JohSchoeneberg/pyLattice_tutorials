{
 "cells": [
  {
   "cell_type": "markdown",
   "metadata": {},
   "source": [
    "# pyLattice Tutorial"
   ]
  },
  {
   "cell_type": "code",
   "execution_count": 1,
   "metadata": {},
   "outputs": [],
   "source": [
    "# by Joh Schöneberg and Cyna Shirazinejad 2019\n",
    "\n",
    "\n",
    "%matplotlib inline\n",
    "import matplotlib.pyplot as plt\n",
    "import numpy as np\n",
    "import pandas as pd\n",
    "\n",
    "\n",
    "### package for 3d visualization\n",
    "from itkwidgets import view                              \n",
    "from aicssegmentation.core.visual import seg_fluo_side_by_side,  single_fluorescent_view, segmentation_quick_view\n",
    "import skimage\n",
    "\n",
    "### local new python segmentation functions\n",
    "import os\n",
    "import sys\n",
    "pythonPackagePath = os.path.abspath('../src/')\n",
    "sys.path.append(pythonPackagePath)\n",
    "from peak_local_max_3d import peak_local_max_3d \n",
    "from gaussian_fitting import fit_multiple_gaussians\n",
    "from extract_data import extract_data_from_filename\n",
    "from gaussian_visualization import visualize_3D_gaussians\n"
   ]
  },
  {
   "cell_type": "markdown",
   "metadata": {},
   "source": [
    "# Specify Input / Output Filenames"
   ]
  },
  {
   "cell_type": "code",
   "execution_count": 4,
   "metadata": {},
   "outputs": [],
   "source": [
    "#use intensity threshold 10000\n",
    "input_filename = '../test_data/cropped_488_pm50px_maxAmpl_0000.tif' \n",
    "\n",
    "#use intensity threshold 30000\n",
    "#input_filename = '/Users/johannesschoeneberg/Dropbox/pylattice_testData/uncropped/S3P5_488_150mw_560_300mw_Objdz150nm_ch1_CAM1_stack0000_560nm_0000000msec_0090116101msecAbs_000x_000y_003z_0000t_decon.tif'\n",
    "\n",
    "outputPath_tiff = (\"../test_data/output_gaussians.tiff\")\n",
    "outputPath_csv = (\"../test_data/output_gaussians.csv\")"
   ]
  },
  {
   "cell_type": "markdown",
   "metadata": {},
   "source": [
    "# View Raw Data\n"
   ]
  },
  {
   "cell_type": "code",
   "execution_count": 5,
   "metadata": {
    "scrolled": true
   },
   "outputs": [
    {
     "data": {
      "application/vnd.jupyter.widget-view+json": {
       "model_id": "54aac3a8521e482da73d7ccfeb3e7ffa",
       "version_major": 2,
       "version_minor": 0
      },
      "text/plain": [
       "Viewer(rendered_image=<itkImagePython.itkImageF3; proxy of <Swig Object of type 'itkImageF3 *' at 0x10add0ae0>…"
      ]
     },
     "metadata": {},
     "output_type": "display_data"
    }
   ],
   "source": [
    "image_raw = extract_data_from_filename(input_filename)\n",
    "view(single_fluorescent_view(image_raw))\n"
   ]
  },
  {
   "cell_type": "markdown",
   "metadata": {},
   "source": [
    "# Set Intensity Threshold"
   ]
  },
  {
   "cell_type": "code",
   "execution_count": 6,
   "metadata": {},
   "outputs": [
    {
     "data": {
      "application/vnd.jupyter.widget-view+json": {
       "model_id": "21a325cbf0fb4ed380bd6b745fc977e5",
       "version_major": 2,
       "version_minor": 0
      },
      "text/plain": [
       "Viewer(rendered_image=<itkImagePython.itkImageF3; proxy of <Swig Object of type 'itkImageF3 *' at 0x1430751e0>…"
      ]
     },
     "metadata": {},
     "output_type": "display_data"
    }
   ],
   "source": [
    "intensityThreshold = 30000\n",
    "image_signal = image_raw>intensityThreshold\n",
    "view(single_fluorescent_view(image_signal))"
   ]
  },
  {
   "cell_type": "markdown",
   "metadata": {},
   "source": [
    "# Determine Local Maxima as Seeds for Gaussian Fitting"
   ]
  },
  {
   "cell_type": "code",
   "execution_count": 8,
   "metadata": {},
   "outputs": [
    {
     "name": "stdout",
     "output_type": "stream",
     "text": [
      "57\n"
     ]
    },
    {
     "data": {
      "application/vnd.jupyter.widget-view+json": {
       "model_id": "70f787a6f688445bb8ac978ee8322057",
       "version_major": 2,
       "version_minor": 0
      },
      "text/plain": [
       "Viewer(rendered_image=<itkImagePython.itkImageF3; proxy of <Swig Object of type 'itkImageF3 *' at 0x1430f2e10>…"
      ]
     },
     "metadata": {},
     "output_type": "display_data"
    }
   ],
   "source": [
    "#~ 5s to run\n",
    "maximas = peak_local_max_3d(image_raw,min_distance=10,threshold=30000)\n",
    "print(len(maximas))\n",
    "image_maxima = np.full(image_raw.shape,False)\n",
    "for maxima in maximas:\n",
    "    #print(maxima)\n",
    "    image_maxima[maxima[0],maxima[1],maxima[2]] = 1000\n",
    "view(single_fluorescent_view(image_maxima))"
   ]
  },
  {
   "cell_type": "markdown",
   "metadata": {},
   "source": [
    "# Gaussian Fitting"
   ]
  },
  {
   "cell_type": "code",
   "execution_count": 9,
   "metadata": {},
   "outputs": [],
   "source": [
    "sigmaExpected_x__pixels = 2\n",
    "sigmaExpected_y__pixels = 2\n",
    "sigmaExpected_z__pixels = 4\n",
    "\n",
    "sigmas_guesses = []\n",
    "for i in range(len(maximas)):\n",
    "    sigmas_guesses.append([sigmaExpected_z__pixels,sigmaExpected_x__pixels,sigmaExpected_y__pixels])"
   ]
  },
  {
   "cell_type": "code",
   "execution_count": 10,
   "metadata": {},
   "outputs": [
    {
     "name": "stdout",
     "output_type": "stream",
     "text": [
      "10%(6 of 57)\n",
      "20%(12 of 57)\n",
      "30%(18 of 57)\n",
      "40%(23 of 57)\n",
      "50%(29 of 57)\n",
      "60%(35 of 57)\n",
      "70%(40 of 57)\n",
      "80%(46 of 57)\n",
      "90%(52 of 57)\n",
      "100%(57 of 57)\n"
     ]
    }
   ],
   "source": [
    "#~100s to run\n",
    "gaussians, gaussians_popt = fit_multiple_gaussians(image_raw,maximas,sigmas_guesses,5)"
   ]
  },
  {
   "cell_type": "markdown",
   "metadata": {},
   "source": [
    "# Visualize the Fitted Gaussians"
   ]
  },
  {
   "cell_type": "code",
   "execution_count": 11,
   "metadata": {},
   "outputs": [
    {
     "data": {
      "application/vnd.jupyter.widget-view+json": {
       "model_id": "13821c00d2f14527aa632e5d2400a4ce",
       "version_major": 2,
       "version_minor": 0
      },
      "text/plain": [
       "Viewer(rendered_image=<itkImagePython.itkImageF3; proxy of <Swig Object of type 'itkImageF3 *' at 0x143075360>…"
      ]
     },
     "metadata": {},
     "output_type": "display_data"
    }
   ],
   "source": [
    "#takes ~15s\n",
    "image_gaussians = visualize_3D_gaussians(image_raw,gaussians)\n",
    "view(single_fluorescent_view(image_gaussians))"
   ]
  },
  {
   "cell_type": "markdown",
   "metadata": {},
   "source": [
    "# Export Gaussians as tiff"
   ]
  },
  {
   "cell_type": "code",
   "execution_count": 12,
   "metadata": {},
   "outputs": [
    {
     "name": "stdout",
     "output_type": "stream",
     "text": [
      "/Users/johannesschoeneberg/git/JohSchoeneberg/pyLattice_tutorials/test_data/output_gaussians.tiff\n"
     ]
    }
   ],
   "source": [
    "skimage.external.tifffile.imsave(outputPath_tiff, image_gaussians.astype('uint16'))    \n",
    "print(os.path.abspath(outputPath_tiff))"
   ]
  },
  {
   "cell_type": "markdown",
   "metadata": {},
   "source": [
    "# Export Gaussians as Excel"
   ]
  },
  {
   "cell_type": "code",
   "execution_count": 13,
   "metadata": {},
   "outputs": [
    {
     "name": "stdout",
     "output_type": "stream",
     "text": [
      "/Users/johannesschoeneberg/git/JohSchoeneberg/pyLattice_tutorials/test_data/output_gaussians.csv\n"
     ]
    }
   ],
   "source": [
    "accumulator = []\n",
    "for gaussian in gaussians:\n",
    "\n",
    "    if(gaussian!=-1):\n",
    "        amplitude = 100*gaussian[0]\n",
    "        \n",
    "        #print(gaussian)\n",
    "        mu_x     = int(gaussian[1][0])\n",
    "        mu_y     = int(gaussian[1][1])\n",
    "        mu_z     = int(gaussian[1][2])\n",
    "        sigma_x  = int(gaussian[2][0])\n",
    "        sigma_y  = int(gaussian[2][1])\n",
    "        sigma_z  = int(gaussian[2][2])\n",
    "        accumulator.append(np.array([amplitude,mu_x,mu_y,mu_z,sigma_x,sigma_y,sigma_z]))\n",
    "accumulator = np.array(accumulator)\n",
    "df = pd.DataFrame()\n",
    "df['amplitude'] = accumulator[:,0]\n",
    "df['mu_x'] = accumulator[:,1]\n",
    "df['mu_y'] = accumulator[:,2]\n",
    "df['my_z'] = accumulator[:,3]\n",
    "df['sigma_x'] = accumulator[:,4]\n",
    "df['sigma_y'] = accumulator[:,5]\n",
    "df['sigma_z'] = accumulator[:,6]\n",
    "df.to_csv(outputPath_csv)\n",
    "print(os.path.abspath(outputPath_csv))"
   ]
  },
  {
   "cell_type": "code",
   "execution_count": null,
   "metadata": {
    "collapsed": true
   },
   "outputs": [],
   "source": []
  }
 ],
 "metadata": {
  "kernelspec": {
   "display_name": "Python 3",
   "language": "python",
   "name": "python3"
  },
  "language_info": {
   "codemirror_mode": {
    "name": "ipython",
    "version": 3
   },
   "file_extension": ".py",
   "mimetype": "text/x-python",
   "name": "python",
   "nbconvert_exporter": "python",
   "pygments_lexer": "ipython3",
   "version": "3.6.7"
  }
 },
 "nbformat": 4,
 "nbformat_minor": 2
}
